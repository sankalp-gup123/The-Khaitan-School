{
  "nbformat": 4,
  "nbformat_minor": 0,
  "metadata": {
    "colab": {
      "provenance": [],
      "authorship_tag": "ABX9TyNq8iilQEUtHzQIsPQKdhXL"
    },
    "kernelspec": {
      "name": "python3",
      "display_name": "Python 3"
    },
    "language_info": {
      "name": "python"
    }
  },
  "cells": [
    {
      "cell_type": "markdown",
      "source": [],
      "metadata": {
        "id": "l7YlTA9AkQNM"
      }
    },
    {
      "cell_type": "markdown",
      "source": [
        "**THIS IS A \"SMART\" HEALTH BOT**"
      ],
      "metadata": {
        "id": "BwaDG0KLkZuZ"
      }
    },
    {
      "cell_type": "code",
      "source": [
        "pip install nltk"
      ],
      "metadata": {
        "colab": {
          "base_uri": "https://localhost:8080/",
          "height": 0
        },
        "id": "eSzlpgqYkfjS",
        "outputId": "4c827a95-170f-41b7-f2e5-73d4cd56c9d3"
      },
      "execution_count": 1,
      "outputs": [
        {
          "output_type": "stream",
          "name": "stdout",
          "text": [
            "Looking in indexes: https://pypi.org/simple, https://us-python.pkg.dev/colab-wheels/public/simple/\n",
            "Requirement already satisfied: nltk in /usr/local/lib/python3.7/dist-packages (3.7)\n",
            "Requirement already satisfied: click in /usr/local/lib/python3.7/dist-packages (from nltk) (7.1.2)\n",
            "Requirement already satisfied: joblib in /usr/local/lib/python3.7/dist-packages (from nltk) (1.2.0)\n",
            "Requirement already satisfied: regex>=2021.8.3 in /usr/local/lib/python3.7/dist-packages (from nltk) (2022.6.2)\n",
            "Requirement already satisfied: tqdm in /usr/local/lib/python3.7/dist-packages (from nltk) (4.64.1)\n"
          ]
        }
      ]
    },
    {
      "cell_type": "code",
      "source": [
        "pip install newspaper3k"
      ],
      "metadata": {
        "colab": {
          "base_uri": "https://localhost:8080/",
          "height": 0
        },
        "id": "AxyKr1f0kvui",
        "outputId": "a9e0111f-dc41-4f0b-e1c1-f937362f0cdb"
      },
      "execution_count": 2,
      "outputs": [
        {
          "output_type": "stream",
          "name": "stdout",
          "text": [
            "Looking in indexes: https://pypi.org/simple, https://us-python.pkg.dev/colab-wheels/public/simple/\n",
            "Collecting newspaper3k\n",
            "  Downloading newspaper3k-0.2.8-py3-none-any.whl (211 kB)\n",
            "\u001b[K     |████████████████████████████████| 211 kB 9.7 MB/s \n",
            "\u001b[?25hCollecting tinysegmenter==0.3\n",
            "  Downloading tinysegmenter-0.3.tar.gz (16 kB)\n",
            "Requirement already satisfied: nltk>=3.2.1 in /usr/local/lib/python3.7/dist-packages (from newspaper3k) (3.7)\n",
            "Collecting cssselect>=0.9.2\n",
            "  Downloading cssselect-1.2.0-py2.py3-none-any.whl (18 kB)\n",
            "Collecting tldextract>=2.0.1\n",
            "  Downloading tldextract-3.4.0-py3-none-any.whl (93 kB)\n",
            "\u001b[K     |████████████████████████████████| 93 kB 2.5 MB/s \n",
            "\u001b[?25hCollecting jieba3k>=0.35.1\n",
            "  Downloading jieba3k-0.35.1.zip (7.4 MB)\n",
            "\u001b[K     |████████████████████████████████| 7.4 MB 33.0 MB/s \n",
            "\u001b[?25hRequirement already satisfied: lxml>=3.6.0 in /usr/local/lib/python3.7/dist-packages (from newspaper3k) (4.9.1)\n",
            "Requirement already satisfied: python-dateutil>=2.5.3 in /usr/local/lib/python3.7/dist-packages (from newspaper3k) (2.8.2)\n",
            "Requirement already satisfied: beautifulsoup4>=4.4.1 in /usr/local/lib/python3.7/dist-packages (from newspaper3k) (4.6.3)\n",
            "Requirement already satisfied: PyYAML>=3.11 in /usr/local/lib/python3.7/dist-packages (from newspaper3k) (6.0)\n",
            "Requirement already satisfied: requests>=2.10.0 in /usr/local/lib/python3.7/dist-packages (from newspaper3k) (2.23.0)\n",
            "Collecting feedfinder2>=0.0.4\n",
            "  Downloading feedfinder2-0.0.4.tar.gz (3.3 kB)\n",
            "Collecting feedparser>=5.2.1\n",
            "  Downloading feedparser-6.0.10-py3-none-any.whl (81 kB)\n",
            "\u001b[K     |████████████████████████████████| 81 kB 9.1 MB/s \n",
            "\u001b[?25hRequirement already satisfied: Pillow>=3.3.0 in /usr/local/lib/python3.7/dist-packages (from newspaper3k) (7.1.2)\n",
            "Requirement already satisfied: six in /usr/local/lib/python3.7/dist-packages (from feedfinder2>=0.0.4->newspaper3k) (1.15.0)\n",
            "Collecting sgmllib3k\n",
            "  Downloading sgmllib3k-1.0.0.tar.gz (5.8 kB)\n",
            "Requirement already satisfied: joblib in /usr/local/lib/python3.7/dist-packages (from nltk>=3.2.1->newspaper3k) (1.2.0)\n",
            "Requirement already satisfied: click in /usr/local/lib/python3.7/dist-packages (from nltk>=3.2.1->newspaper3k) (7.1.2)\n",
            "Requirement already satisfied: tqdm in /usr/local/lib/python3.7/dist-packages (from nltk>=3.2.1->newspaper3k) (4.64.1)\n",
            "Requirement already satisfied: regex>=2021.8.3 in /usr/local/lib/python3.7/dist-packages (from nltk>=3.2.1->newspaper3k) (2022.6.2)\n",
            "Requirement already satisfied: certifi>=2017.4.17 in /usr/local/lib/python3.7/dist-packages (from requests>=2.10.0->newspaper3k) (2022.9.24)\n",
            "Requirement already satisfied: urllib3!=1.25.0,!=1.25.1,<1.26,>=1.21.1 in /usr/local/lib/python3.7/dist-packages (from requests>=2.10.0->newspaper3k) (1.24.3)\n",
            "Requirement already satisfied: chardet<4,>=3.0.2 in /usr/local/lib/python3.7/dist-packages (from requests>=2.10.0->newspaper3k) (3.0.4)\n",
            "Requirement already satisfied: idna<3,>=2.5 in /usr/local/lib/python3.7/dist-packages (from requests>=2.10.0->newspaper3k) (2.10)\n",
            "Collecting requests-file>=1.4\n",
            "  Downloading requests_file-1.5.1-py2.py3-none-any.whl (3.7 kB)\n",
            "Requirement already satisfied: filelock>=3.0.8 in /usr/local/lib/python3.7/dist-packages (from tldextract>=2.0.1->newspaper3k) (3.8.0)\n",
            "Building wheels for collected packages: tinysegmenter, feedfinder2, jieba3k, sgmllib3k\n",
            "  Building wheel for tinysegmenter (setup.py) ... \u001b[?25l\u001b[?25hdone\n",
            "  Created wheel for tinysegmenter: filename=tinysegmenter-0.3-py3-none-any.whl size=13551 sha256=f7bf85748d11dcdfd9bb5ff31ab982ba97a2a876239a6b47dc933aed4d3cd1e6\n",
            "  Stored in directory: /root/.cache/pip/wheels/df/67/41/faca10fa501ca010be41b49d40360c2959e1c4f09bcbfa37fa\n",
            "  Building wheel for feedfinder2 (setup.py) ... \u001b[?25l\u001b[?25hdone\n",
            "  Created wheel for feedfinder2: filename=feedfinder2-0.0.4-py3-none-any.whl size=3357 sha256=6cacf0224914af93a0820b32b7ef0b001efcd48eed8d4ee2c9e85d7e1da6dbac\n",
            "  Stored in directory: /root/.cache/pip/wheels/7f/d4/8f/6e2ca54744c9d7292d88ddb8d42876bcdab5e6d84a21c10346\n",
            "  Building wheel for jieba3k (setup.py) ... \u001b[?25l\u001b[?25hdone\n",
            "  Created wheel for jieba3k: filename=jieba3k-0.35.1-py3-none-any.whl size=7398404 sha256=869211204bb608388bf6286b341e7dcb4a4e97a5e3e5d64f735feb7d3a06bb9d\n",
            "  Stored in directory: /root/.cache/pip/wheels/4c/91/46/3c208287b726df325a5979574324878b679116e4baae1af3c3\n",
            "  Building wheel for sgmllib3k (setup.py) ... \u001b[?25l\u001b[?25hdone\n",
            "  Created wheel for sgmllib3k: filename=sgmllib3k-1.0.0-py3-none-any.whl size=6065 sha256=b0c2dd3f3274fdc79ce8563c096fb0061c7400da1de38a1b94b2053a862cf2a9\n",
            "  Stored in directory: /root/.cache/pip/wheels/73/ad/a4/0dff4a6ef231fc0dfa12ffbac2a36cebfdddfe059f50e019aa\n",
            "Successfully built tinysegmenter feedfinder2 jieba3k sgmllib3k\n",
            "Installing collected packages: sgmllib3k, requests-file, tldextract, tinysegmenter, jieba3k, feedparser, feedfinder2, cssselect, newspaper3k\n",
            "Successfully installed cssselect-1.2.0 feedfinder2-0.0.4 feedparser-6.0.10 jieba3k-0.35.1 newspaper3k-0.2.8 requests-file-1.5.1 sgmllib3k-1.0.0 tinysegmenter-0.3 tldextract-3.4.0\n"
          ]
        }
      ]
    },
    {
      "cell_type": "code",
      "source": [
        "#Import some important libraries\n",
        "from newspaper import Article\n",
        "import random\n",
        "import string\n",
        "import nltk\n",
        "from sklearn.feature_extraction.text import CountVectorizer\n",
        "from sklearn.metrics.pairwise import cosine_similarity\n",
        "import numpy as np\n",
        "import warnings\n",
        "warnings.filterwarnings('ignore')"
      ],
      "metadata": {
        "id": "g0YSK91Zk4mC"
      },
      "execution_count": 3,
      "outputs": []
    },
    {
      "cell_type": "code",
      "source": [
        "#Download punkt package\n",
        "nltk.download('punkt',quiet=True)"
      ],
      "metadata": {
        "colab": {
          "base_uri": "https://localhost:8080/",
          "height": 0
        },
        "id": "XQu7_Ty3mQ01",
        "outputId": "fb0bd6d7-5cf1-4184-e650-0a9fd4005cd8"
      },
      "execution_count": 5,
      "outputs": [
        {
          "output_type": "execute_result",
          "data": {
            "text/plain": [
              "True"
            ]
          },
          "metadata": {},
          "execution_count": 5
        }
      ]
    },
    {
      "cell_type": "code",
      "source": [
        "#Get various articless\n",
        "article=Article('https://www.mayoclinic.org/diseases-conditions/cancer/symptoms-causes/syc-20370588')\n",
        "article.download()\n",
        "article.parse()\n",
        "article.nlp()\n",
        "corpus=article.text"
      ],
      "metadata": {
        "id": "B66F__77qlOH"
      },
      "execution_count": 13,
      "outputs": []
    },
    {
      "cell_type": "code",
      "source": [
        "print(corpus)"
      ],
      "metadata": {
        "colab": {
          "base_uri": "https://localhost:8080/"
        },
        "id": "rB3fkP6js8Gs",
        "outputId": "f8ebcb44-3088-406d-f706-9a9af6b76bc1"
      },
      "execution_count": 9,
      "outputs": [
        {
          "output_type": "stream",
          "name": "stdout",
          "text": [
            "Overview\n",
            "\n",
            "Cancer refers to any one of a large number of diseases characterized by the development of abnormal cells that divide uncontrollably and have the ability to infiltrate and destroy normal body tissue. Cancer often has the ability to spread throughout your body.\n",
            "\n",
            "Cancer is the second-leading cause of death in the world. But survival rates are improving for many types of cancer, thanks to improvements in cancer screening, treatment and prevention.\n",
            "\n",
            "Symptoms\n",
            "\n",
            "Signs and symptoms caused by cancer will vary depending on what part of the body is affected.\n",
            "\n",
            "Some general signs and symptoms associated with, but not specific to, cancer, include:\n",
            "\n",
            "Fatigue\n",
            "\n",
            "Lump or area of thickening that can be felt under the skin\n",
            "\n",
            "Weight changes, including unintended loss or gain\n",
            "\n",
            "Skin changes, such as yellowing, darkening or redness of the skin, sores that won't heal, or changes to existing moles\n",
            "\n",
            "Changes in bowel or bladder habits\n",
            "\n",
            "Persistent cough or trouble breathing\n",
            "\n",
            "Difficulty swallowing\n",
            "\n",
            "Hoarseness\n",
            "\n",
            "Persistent indigestion or discomfort after eating\n",
            "\n",
            "Persistent, unexplained muscle or joint pain\n",
            "\n",
            "Persistent, unexplained fevers or night sweats\n",
            "\n",
            "Unexplained bleeding or bruising\n",
            "\n",
            "When to see a doctor\n",
            "\n",
            "Make an appointment with your doctor if you have any persistent signs or symptoms that concern you.\n",
            "\n",
            "If you don't have any signs or symptoms, but are worried about your risk of cancer, discuss your concerns with your doctor. Ask about which cancer screening tests and procedures are appropriate for you.\n",
            "\n",
            "Causes\n",
            "\n",
            "Cancer is caused by changes (mutations) to the DNA within cells. The DNA inside a cell is packaged into a large number of individual genes, each of which contains a set of instructions telling the cell what functions to perform, as well as how to grow and divide. Errors in the instructions can cause the cell to stop its normal function and may allow a cell to become cancerous.\n",
            "\n",
            "What do gene mutations do?\n",
            "\n",
            "A gene mutation can instruct a healthy cell to:\n",
            "\n",
            "Allow rapid growth. A gene mutation can tell a cell to grow and divide more rapidly. This creates many new cells that all have that same mutation.\n",
            "\n",
            "A gene mutation can tell a cell to grow and divide more rapidly. This creates many new cells that all have that same mutation. Fail to stop uncontrolled cell growth. Normal cells know when to stop growing so that you have just the right number of each type of cell. Cancer cells lose the controls (tumor suppressor genes) that tell them when to stop growing. A mutation in a tumor suppressor gene allows cancer cells to continue growing and accumulating.\n",
            "\n",
            "Normal cells know when to stop growing so that you have just the right number of each type of cell. Cancer cells lose the controls (tumor suppressor genes) that tell them when to stop growing. A mutation in a tumor suppressor gene allows cancer cells to continue growing and accumulating. Make mistakes when repairing DNA errors. DNA repair genes look for errors in a cell's DNA and make corrections. A mutation in a DNA repair gene may mean that other errors aren't corrected, leading cells to become cancerous.\n",
            "\n",
            "These mutations are the most common ones found in cancer. But many other gene mutations can contribute to causing cancer.\n",
            "\n",
            "What causes gene mutations?\n",
            "\n",
            "Gene mutations can occur for several reasons, for instance:\n",
            "\n",
            "Gene mutations you're born with. You may be born with a genetic mutation that you inherited from your parents. This type of mutation accounts for a small percentage of cancers.\n",
            "\n",
            "You may be born with a genetic mutation that you inherited from your parents. This type of mutation accounts for a small percentage of cancers. Gene mutations that occur after birth. Most gene mutations occur after you're born and aren't inherited. A number of forces can cause gene mutations, such as smoking, radiation, viruses, cancer-causing chemicals (carcinogens), obesity, hormones, chronic inflammation and a lack of exercise.\n",
            "\n",
            "Gene mutations occur frequently during normal cell growth. However, cells contain a mechanism that recognizes when a mistake occurs and repairs the mistake. Occasionally, a mistake is missed. This could cause a cell to become cancerous.\n",
            "\n",
            "How do gene mutations interact with each other?\n",
            "\n",
            "The gene mutations you're born with and those that you acquire throughout your life work together to cause cancer.\n",
            "\n",
            "For instance, if you've inherited a genetic mutation that predisposes you to cancer, that doesn't mean you're certain to get cancer. Instead, you may need one or more other gene mutations to cause cancer. Your inherited gene mutation could make you more likely than other people to develop cancer when exposed to a certain cancer-causing substance.\n",
            "\n",
            "It's not clear just how many mutations must accumulate for cancer to form. It's likely that this varies among cancer types.\n",
            "\n",
            "Risk factors\n",
            "\n",
            "While doctors have an idea of what may increase your risk of cancer, the majority of cancers occur in people who don't have any known risk factors. Factors known to increase your risk of cancer include:\n",
            "\n",
            "Your age\n",
            "\n",
            "Cancer can take decades to develop. That's why most people diagnosed with cancer are 65 or older. While it's more common in older adults, cancer isn't exclusively an adult disease — cancer can be diagnosed at any age.\n",
            "\n",
            "Your habits\n",
            "\n",
            "Certain lifestyle choices are known to increase your risk of cancer. Smoking, drinking more than one drink a day for women and up to two drinks a day for men, excessive exposure to the sun or frequent blistering sunburns, being obese, and having unsafe sex can contribute to cancer.\n",
            "\n",
            "You can change these habits to lower your risk of cancer — though some habits are easier to change than others.\n",
            "\n",
            "Your family history\n",
            "\n",
            "Only a small portion of cancers are due to an inherited condition. If cancer is common in your family, it's possible that mutations are being passed from one generation to the next. You might be a candidate for genetic testing to see whether you have inherited mutations that might increase your risk of certain cancers. Keep in mind that having an inherited genetic mutation doesn't necessarily mean you'll get cancer.\n",
            "\n",
            "Your health conditions\n",
            "\n",
            "Some chronic health conditions, such as ulcerative colitis, can markedly increase your risk of developing certain cancers. Talk to your doctor about your risk.\n",
            "\n",
            "Your environment\n",
            "\n",
            "The environment around you may contain harmful chemicals that can increase your risk of cancer. Even if you don't smoke, you might inhale secondhand smoke if you go where people are smoking or if you live with someone who smokes. Chemicals in your home or workplace, such as asbestos and benzene, also are associated with an increased risk of cancer.\n",
            "\n",
            "Complications\n",
            "\n",
            "Cancer and its treatment can cause several complications, including:\n",
            "\n",
            "Pain. Pain can be caused by cancer or by cancer treatment, though not all cancer is painful. Medications and other approaches can effectively treat cancer-related pain.\n",
            "\n",
            "Pain can be caused by cancer or by cancer treatment, though not all cancer is painful. Medications and other approaches can effectively treat cancer-related pain. Fatigue. Fatigue in people with cancer has many causes, but it can often be managed. Fatigue associated with chemotherapy or radiation therapy treatments is common, but it's usually temporary.\n",
            "\n",
            "Fatigue in people with cancer has many causes, but it can often be managed. Fatigue associated with chemotherapy or radiation therapy treatments is common, but it's usually temporary. Difficulty breathing. Cancer or cancer treatment may cause a feeling of being short of breath. Treatments may bring relief.\n",
            "\n",
            "Cancer or cancer treatment may cause a feeling of being short of breath. Treatments may bring relief. Nausea. Certain cancers and cancer treatments can cause nausea. Your doctor can sometimes predict if your treatment is likely to cause nausea. Medications and other treatments may help you prevent or decrease nausea.\n",
            "\n",
            "Certain cancers and cancer treatments can cause nausea. Your doctor can sometimes predict if your treatment is likely to cause nausea. Medications and other treatments may help you prevent or decrease nausea. Diarrhea or constipation. Cancer and cancer treatment can affect your bowels and cause diarrhea or constipation.\n",
            "\n",
            "Cancer and cancer treatment can affect your bowels and cause diarrhea or constipation. Weight loss. Cancer and cancer treatment may cause weight loss. Cancer steals food from normal cells and deprives them of nutrients. This is often not affected by how many calories or what kind of food is eaten; it's difficult to treat. In most cases, using artificial nutrition through tubes into the stomach or vein does not help change the weight loss.\n",
            "\n",
            "Cancer and cancer treatment may cause weight loss. Cancer steals food from normal cells and deprives them of nutrients. This is often not affected by how many calories or what kind of food is eaten; it's difficult to treat. In most cases, using artificial nutrition through tubes into the stomach or vein does not help change the weight loss. Chemical changes in your body. Cancer can upset the normal chemical balance in your body and increase your risk of serious complications. Signs and symptoms of chemical imbalances might include excessive thirst, frequent urination, constipation and confusion.\n",
            "\n",
            "Cancer can upset the normal chemical balance in your body and increase your risk of serious complications. Signs and symptoms of chemical imbalances might include excessive thirst, frequent urination, constipation and confusion. Brain and nervous system problems. Cancer can press on nearby nerves and cause pain and loss of function of one part of your body. Cancer that involves the brain can cause headaches and stroke-like signs and symptoms, such as weakness on one side of your body.\n",
            "\n",
            "Cancer can press on nearby nerves and cause pain and loss of function of one part of your body. Cancer that involves the brain can cause headaches and stroke-like signs and symptoms, such as weakness on one side of your body. Unusual immune system reactions to cancer. In some cases the body's immune system may react to the presence of cancer by attacking healthy cells. Called paraneoplastic syndromes, these very rare reactions can lead to a variety of signs and symptoms, such as difficulty walking and seizures.\n",
            "\n",
            "In some cases the body's immune system may react to the presence of cancer by attacking healthy cells. Called paraneoplastic syndromes, these very rare reactions can lead to a variety of signs and symptoms, such as difficulty walking and seizures. Cancer that spreads. As cancer advances, it may spread (metastasize) to other parts of the body. Where cancer spreads depends on the type of cancer.\n",
            "\n",
            "As cancer advances, it may spread (metastasize) to other parts of the body. Where cancer spreads depends on the type of cancer. Cancer that returns. Cancer survivors have a risk of cancer recurrence. Some cancers are more likely to recur than others. Ask your doctor about what you can do to reduce your risk of cancer recurrence. Your doctor may devise a follow-up care plan for you after treatment. This plan may include periodic scans and exams in the months and years after your treatment, to look for cancer recurrence.\n",
            "\n",
            "Prevention\n",
            "\n",
            "Doctors have identified several ways to reduce your risk of cancer, such as:\n"
          ]
        }
      ]
    }
  ]
}